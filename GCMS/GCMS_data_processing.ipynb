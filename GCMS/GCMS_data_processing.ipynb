{
 "cells": [
  {
   "cell_type": "markdown",
   "metadata": {},
   "source": [
    "### Importing and Processing CO2 Respiration Data from GC-MS###\n",
    "> This script will convert output from the GC-MS from multiple sampling timepoints into a table. It can also calculate the mols C based on peak area and prep a graph in ggplot.\n",
    "\n",
    "\n",
    "###### Last Modified by R. Wilhelm on October 20th, 2017 ######\n"
   ]
  },
  {
   "cell_type": "markdown",
   "metadata": {},
   "source": [
    "# Step 1: User Input"
   ]
  },
  {
   "cell_type": "code",
   "execution_count": null,
   "metadata": {
    "collapsed": false
   },
   "outputs": [],
   "source": [
    "## Provide the directory the contains subdirectories with timepoints\n",
    "# example: '/home/roli/PROJECT/ which would contain sub-directories corresponding to timepoints T1, T2, T3 ... that containing the text output from the GC-MS\n",
    "\n",
    "directory = '/home/roli/scripts/gcms/example_data/'\n",
    "\n",
    "## Name the output for GC-MS data refinement (still raw, but in tabular form)\n",
    "output_name = 'example'\n",
    "\n",
    "## Provide an 'events' table in '.tsv' format which contains at least three columns: 'Timepoint', 'Sampling Date', and 'Sampling Time'\n",
    "# note: It is critical to include T0 (i.e. the start date and time)\n",
    "\n",
    "#Timepoint  Date       Time\n",
    "#T0         21/04/17   21:30:00\n",
    "#T1         22/04/17   09:30:00\n",
    "\n",
    "events = 'events.tsv'\n",
    "\n",
    "## Provide information on the volume of microcosm sampled (in L)\n",
    "# note: you'll have to alter the code for calculating mol.C if you've used mixed container sizes.\n",
    "microcosm_size = 0.25 #   \n",
    "\n",
    "## Provide name and concentration of each standard (in ppm)\n",
    "import pandas as pd\n",
    "standards = pd.DataFrame({'ppm': [0, 855, 1701, 3422, 8510, 17227, 34488]},\n",
    "                         index=['standard1','standard2','standard3','standard4','standard5','standard6','standard7'])"
   ]
  },
  {
   "cell_type": "markdown",
   "metadata": {},
   "source": [
    "# Define Import Function"
   ]
  },
  {
   "cell_type": "code",
   "execution_count": null,
   "metadata": {
    "collapsed": false
   },
   "outputs": [],
   "source": [
    "import os, re, glob, sys\n",
    "from collections import defaultdict\n",
    "\n",
    "def import_me(directory):\n",
    "    import_dict = defaultdict(list)\n",
    "\n",
    "    for dir_path in os.walk(directory):\n",
    "        if dir_path[0] != directory:\n",
    "            dir_path = (str(dir_path[0]))\n",
    "            dir_name = re.sub(directory,\"\",dir_path)\n",
    "\n",
    "            for file in glob.glob(dir_path+\"/*.txt\"):\n",
    "                name = re.sub(dir_path+\"/\",\"\",file)\n",
    "                name = re.sub(\".txt\",\"\",name)\n",
    "\n",
    "                import_dict[dir_name].append([name, file])\n",
    "                \n",
    "    return import_dict"
   ]
  },
  {
   "cell_type": "markdown",
   "metadata": {},
   "source": [
    "# Step 2: Convert GC-MS Raw Data to Table"
   ]
  },
  {
   "cell_type": "code",
   "execution_count": null,
   "metadata": {
    "collapsed": false
   },
   "outputs": [],
   "source": [
    "output = open(directory+\"/\"+output_name+\".raw.co2.table.tsv\",\"w\")\n",
    "output.write(\"timepoint\\tsampleID\\tion\\tconcentration\\tpeak area\\trt\\n\")\n",
    "input_dictionary = import_me(directory)\n",
    "\n",
    "for timepoint, sample_files in input_dictionary.items():\n",
    "    \n",
    "    for sample_file in sample_files:\n",
    "        name = sample_file[0]\n",
    "        file = sample_file[1]\n",
    "        \n",
    "        for line in open(file,\"r\"):\n",
    "            if re.search(\"TIC|m/z 44|m/z 45\",line):\n",
    "                line = line.strip()\n",
    "                line = line.split(\"\\t\")\n",
    "\n",
    "                ion = line[1]\n",
    "                retention = line[5]\n",
    "                area = line[9]\n",
    "                concentration = line[11]\n",
    "\n",
    "                output.write(timepoint+\"\\t\"+name+\"\\t\"+ion+\"\\t\"+concentration+\"\\t\"+area+\"\\t\"+retention+\"\\n\")\n",
    "\n",
    "output.close()"
   ]
  },
  {
   "cell_type": "markdown",
   "metadata": {},
   "source": [
    "# Step 3: Import and Work-up in R"
   ]
  },
  {
   "cell_type": "code",
   "execution_count": null,
   "metadata": {
    "collapsed": false
   },
   "outputs": [],
   "source": [
    "## Setup R-Magic for Jupyter Notebooks\n",
    "import rpy2\n",
    "import pandas as pd\n",
    "%load_ext rpy2.ipython\n",
    "\n",
    "## Description: use Pandas to create a dataframe and then pipe that to R\n",
    "\n",
    "# Import CO2 Data\n",
    "co2_data = pd.read_csv(directory+\"/\"+output_name+\".raw.co2.table.tsv\", sep=\"\\t\")\n",
    "%R -i co2_data\n",
    "\n",
    "# Segregate Standards\n",
    "%R raw_standards <- co2_data[grep(\"standard\",co2_data$sampleID),]\n",
    "%R co2_data <- co2_data[-grep(\"standard\",co2_data$sampleID),]\n",
    "\n",
    "# Import Standards\n",
    "%R -i standards\n",
    "\n",
    "# Import Microcosm Size\n",
    "%R -i microcosm_size\n",
    "\n",
    "# Import Analysis Directory\n",
    "%R -i directory\n",
    "%R -i output_name\n",
    "\n",
    "# Import Events\n",
    "try:\n",
    "    events = pd.read_csv(directory+\"/\"+events, sep=\"\\t\")\n",
    "    %R -i events\n",
    "    \n",
    "except:\n",
    "    pass"
   ]
  },
  {
   "cell_type": "markdown",
   "metadata": {},
   "source": [
    "# Define Functions Used in R"
   ]
  },
  {
   "cell_type": "code",
   "execution_count": null,
   "metadata": {
    "collapsed": false
   },
   "outputs": [],
   "source": [
    "%%R\n",
    "\n",
    "########################\n",
    "## Convert ppm to mols C\n",
    "\n",
    "calc_mol_C = function(ppm,ion,volume.L){\n",
    "  # moles (n) = PV / RT\n",
    "  # x = ppm\n",
    "  temp.K=294.261\n",
    "  pressure.atm=1\n",
    "  R=0.08206\n",
    "  \n",
    "  ppm = as.numeric(ppm)\n",
    "  ion = as.numeric(ion)\n",
    "  mol.volume = (pressure.atm * volume.L) / (R * temp.K)  # mol gas in container\n",
    "  mol.CO2 = mol.volume * (ppm / 1000000)  # fraction of mol as CO2\n",
    "  \n",
    "  if (ion == 44){\n",
    "    mol.C = mol.CO2 * 12/44   # fraction of CO2 that is C  \n",
    "  } else {\n",
    "    mol.C = mol.CO2 * 13/45   # fraction of CO2 that is C\n",
    "  }\n",
    "  return(mol.C)\n",
    "}\n",
    "\n",
    "#########################\n",
    "#Calculate Standard Error\n",
    "# Taken from http://www.cookbook-r.com/Graphs/Plotting_means_and_error_bars_(ggplot2)/\n",
    "\n",
    "summarySE <- function(data=NULL, measurevar, groupvars=NULL, na.rm=FALSE, conf.interval=.95, .drop=TRUE) {\n",
    "  library(plyr)\n",
    "  \n",
    "  # New version of length which can handle NA's: if na.rm==T, don't count them\n",
    "  length2 <- function (x, na.rm=FALSE) {\n",
    "    if (na.rm) sum(!is.na(x))\n",
    "    else       length(x)\n",
    "  }\n",
    "  \n",
    "  # This does the summary. For each group's data frame, return a vector with\n",
    "  # N, mean, and sd\n",
    "  datac <- ddply(data, groupvars, .drop=.drop,\n",
    "                 .fun = function(xx, col) {\n",
    "                   c(N    = length2(xx[[col]], na.rm=na.rm),\n",
    "                     mean = mean   (xx[[col]], na.rm=na.rm),\n",
    "                     sd   = sd     (xx[[col]], na.rm=na.rm)\n",
    "                   )\n",
    "                 },\n",
    "                 measurevar\n",
    "  )\n",
    "  \n",
    "  # Rename the \"mean\" column    \n",
    "  datac <- rename(datac, c(\"mean\" = measurevar))\n",
    "  \n",
    "  datac$se <- datac$sd / sqrt(datac$N)  # Calculate standard error of the mean\n",
    "  \n",
    "  # Confidence interval multiplier for standard error\n",
    "  # Calculate t-statistic for confidence interval: \n",
    "  # e.g., if conf.interval is .95, use .975 (above/below), and use df=N-1\n",
    "  ciMult <- qt(conf.interval/2 + .5, datac$N-1)\n",
    "  datac$ci <- datac$se * ciMult\n",
    "  \n",
    "  return(datac)\n",
    "}\n",
    "\n",
    "##############################################\n",
    "### Join Data and Time into Single POSIX stamp\n",
    "   \n",
    "time_converter <- function(date, time){\n",
    "    x <- data.frame(posix = rep(NA,length(date)))\n",
    "    x$posix <- as.POSIXct(x$posix)\n",
    "    \n",
    "    ## This is ugly becaue it is trying to catch various irregularities in time and date input\n",
    "    for (n in 1:length(date)){\n",
    "      if (!is.na(as.POSIXct(strptime(paste(date[n],time[n],sep=\" \"), '%d/%m/%y %R'), tz=\"EST\"))){\n",
    "        x$posix[n] = as.POSIXct(strptime(paste(date[n],time[n],sep=\" \"), '%d/%m/%y %R'), tz=\"EST\")\n",
    "      } else if (!is.na(as.POSIXct(strptime(paste(date[n],time[n],sep=\" \"), '%d/%m/%Y %R'), tz=\"EST\"))) {\n",
    "        x$posix[n] = as.POSIXct(strptime(paste(date[n],time[n],sep=\" \"), '%d/%m/%Y %R'), tz=\"EST\")\n",
    "      } else {\n",
    "        x$posix[n] = as.POSIXct(strptime(paste(date[n],time[n],sep=\" \"), '%d-%m-%y %R'), tz=\"EST\")  \n",
    "      }\n",
    "    }\n",
    "       \n",
    "    return(x)\n",
    "}\n",
    "      \n",
    "####################################################\n",
    "### Calculate Duration from Start for All Timepoints\n",
    "      \n",
    "duration_calculator <- function(start, time_series){\n",
    "  return(as.numeric(difftime(time_series, start), units='hours'))\n",
    "}"
   ]
  },
  {
   "cell_type": "markdown",
   "metadata": {},
   "source": [
    "# Step 4: Calculate Durations"
   ]
  },
  {
   "cell_type": "code",
   "execution_count": null,
   "metadata": {
    "collapsed": false
   },
   "outputs": [],
   "source": [
    "%%R\n",
    "\n",
    "# Combine all dates and times into single 'POSIX' time-stamp\n",
    "posix <- time_converter(events$date, events$time)\n",
    "events <- cbind(events, posix)\n",
    "\n",
    "# Calculate Duration for Each Timepoint\n",
    "start <- subset(events, timepoint == \"T0\")\n",
    "events <- subset(events, timepoint != \"T0\")\n",
    "events$duration <- duration_calculator(start$posix, events$posix) # duration_calculator(start_time, all_time_points)\n",
    "\n",
    "# Merge CO2 Data with duration\n",
    "co2_data <- merge(co2_data, events, by = \"timepoint\")\n",
    "                  \n",
    "# print current work-up\n",
    "print(head(co2_data))"
   ]
  },
  {
   "cell_type": "markdown",
   "metadata": {},
   "source": [
    "# Step 5: Calculate Standard Curve"
   ]
  },
  {
   "cell_type": "code",
   "execution_count": null,
   "metadata": {
    "collapsed": false
   },
   "outputs": [],
   "source": [
    "%%R\n",
    "## Note: This script assumes very low inter-run variability\n",
    "## From my experience, preparing the standards by hand introduces greater inter-run variability than the instrument.\n",
    "## Therefore, this script will average all standard data and calculate ppm based off of this average\n",
    "\n",
    "## a bit of clean-up\n",
    "raw_standards$ion <- gsub(\"m/z \",\"\",raw_standards$ion) \n",
    "raw_standards <- subset(raw_standards, ion != \"TIC\")\n",
    "\n",
    "## Concentrations are calculated based on total CO2  (converting 13C to 12C-equivalent is negligible)\n",
    "# sum ion 44 and ion 45 \n",
    "raw_standards <- ddply(raw_standards, ~ timepoint + sampleID, summarise, total.peak.area = sum(peak.area))\n",
    "raw_standards$combo <- paste(raw_standards$timepoint, raw_standards$sampleID,sep=\"_\")\n",
    "\n",
    "## regress standards\n",
    "standards$sampleID <- rownames(standards)\n",
    "raw_standards <- merge(raw_standards, standards, by = \"sampleID\")\n",
    "\n",
    "## Plot Curve\n",
    "plot <- ggplot(raw_standards, aes(total.peak.area, ppm, label = combo)) + geom_point() + geom_smooth(method=lm, se=F) + ggtitle(\"Raw Standards\")\n",
    "print(plot + geom_label(size = 4, hjust = -0.1))\n",
    "\n",
    "## Remove Outliers from Standard Curve\n",
    "remove_me <- c(\"T2_standard7\",\"T2_standard6\")\n",
    "\n",
    "if (length(remove_me) > 0){\n",
    "    refined_standards <- raw_standards[-which(raw_standards$combo %in% remove_me),]\n",
    "    plot <- ggplot(refined_standards, aes(total.peak.area, ppm, label = combo)) + geom_point() + geom_smooth(method=lm, se=F) + ggtitle(\"Refined Standards\")\n",
    "    print(plot + geom_label(size = 4, hjust = -0.1))\n",
    "} else {\n",
    "    refined_standards <- raw_standards\n",
    "}\n",
    "\n",
    "## Calculate regression coefficients (force through zero)\n",
    "m <- as.numeric(coef(lm(ppm ~ total.peak.area -1, refined_standards))[1])\n",
    "#b <- as.numeric(coef(lm(ppm ~ total.peak.area, refined_standards))[1])"
   ]
  },
  {
   "cell_type": "markdown",
   "metadata": {},
   "source": [
    "# Step 6: Convert peak area to ppm"
   ]
  },
  {
   "cell_type": "code",
   "execution_count": null,
   "metadata": {
    "collapsed": false,
    "scrolled": true
   },
   "outputs": [],
   "source": [
    "%%R\n",
    "\n",
    "## a bit of clean-up\n",
    "co2_data$ion <- gsub(\"m/z \",\"\", co2_data$ion) \n",
    "co2_data <- subset(co2_data, ion != \"TIC\")\n",
    "\n",
    "## Calculate ppm based on curve\n",
    "co2_data$adj.conc <- m*co2_data$peak.area\n",
    "\n",
    "print(head(co2_data))"
   ]
  },
  {
   "cell_type": "markdown",
   "metadata": {},
   "source": [
    "# Step 7: Convert ppm to mols C"
   ]
  },
  {
   "cell_type": "code",
   "execution_count": null,
   "metadata": {
    "collapsed": false
   },
   "outputs": [],
   "source": [
    "%%R\n",
    "\n",
    "# Calculate mol\n",
    "co2_data$mol.C <- apply(co2_data[,c(\"adj.conc\",\"ion\")], 1, function(x) calc_mol_C(x[1],x[2],microcosm_size))\n",
    "\n",
    "print(head(co2_data))"
   ]
  },
  {
   "cell_type": "markdown",
   "metadata": {},
   "source": [
    "# Step 8: Calculate Cumulative Respiration"
   ]
  },
  {
   "cell_type": "code",
   "execution_count": null,
   "metadata": {
    "collapsed": false
   },
   "outputs": [],
   "source": [
    "%%R\n",
    "\n",
    "## Calculate Cumulative Respiration\n",
    "count = 1\n",
    "\n",
    "for (sample in unique(co2_data$sampleID)){ \n",
    "    for (i in c(44, 45)){\n",
    "        foo<-subset(co2_data, sampleID == sample & ion == i)\n",
    "        foo<-foo[order(foo$duration),]\n",
    "        foo$cum.mol.C <- cumsum(foo$mol.C)\n",
    "\n",
    "        if (count == 1){\n",
    "            cumulative <- foo\n",
    "            count = count + 1\n",
    "        } else {\n",
    "            cumulative <- rbind(cumulative, foo)\n",
    "        }    \n",
    "    }\n",
    "}\n",
    "\n",
    "print(head(cumulative))\n"
   ]
  },
  {
   "cell_type": "markdown",
   "metadata": {},
   "source": [
    "# Step 9: Plot Curves"
   ]
  },
  {
   "cell_type": "code",
   "execution_count": null,
   "metadata": {
    "collapsed": false
   },
   "outputs": [],
   "source": [
    "%%R\n",
    "# Plot Curve 1 : Respiration over Sampling Intervals\n",
    "plot_me <- summarySE(co2_data, measurevar=\"mol.C\", groupvars=c(\"sampleID\",\"duration\",\"ion\"))\n",
    "print(ggplot(plot_me, aes(duration, mol.C, color = sampleID)) + geom_point() + geom_smooth(method = \"lm\", formula = y ~ splines::bs(x, 3), se = FALSE) + facet_grid(~ion) + ggtitle(\"Net CO2 Flux across Sampling Intervals\"))\n",
    "\n",
    "# Plot Curve 2 : Cumulative Respiration\n",
    "print(ggplot(cumulative, aes(duration, cum.mol.C, color = sampleID)) + geom_point() + geom_smooth(method = \"lm\", formula = y ~ splines::bs(x, 3), se = FALSE) + facet_grid(~ion) + ggtitle(\"Cumulative CO2 Over Time\"))"
   ]
  },
  {
   "cell_type": "markdown",
   "metadata": {},
   "source": [
    "# Step 10: Export and Save Dataset"
   ]
  },
  {
   "cell_type": "code",
   "execution_count": null,
   "metadata": {
    "collapsed": false
   },
   "outputs": [],
   "source": [
    "%%R\n",
    "\n",
    "## Export as '.csv' for safe-keeping\n",
    "write.csv(co2_data, file = paste(directory,\"/\",output_name,\".final.csv\",sep=\"\"))\n",
    "\n",
    "## Export as '.rds' for analysis in R\n",
    "saveRDS(co2_data, file = paste(directory,\"/\",output_name,\".final.rds\",sep=\"\"))"
   ]
  }
 ],
 "metadata": {
  "anaconda-cloud": {},
  "hide_input": true,
  "kernelspec": {
   "display_name": "Python 3",
   "language": "python",
   "name": "python3"
  },
  "language_info": {
   "codemirror_mode": {
    "name": "ipython",
    "version": 3
   },
   "file_extension": ".py",
   "mimetype": "text/x-python",
   "name": "python",
   "nbconvert_exporter": "python",
   "pygments_lexer": "ipython3",
   "version": "3.6.0"
  }
 },
 "nbformat": 4,
 "nbformat_minor": 1
}
